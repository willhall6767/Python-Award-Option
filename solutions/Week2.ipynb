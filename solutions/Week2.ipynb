{
 "cells": [
  {
   "cell_type": "code",
   "execution_count": 2,
   "id": "db5372ca",
   "metadata": {},
   "outputs": [
    {
     "name": "stdout",
     "output_type": "stream",
     "text": [
      "Negative\n"
     ]
    }
   ],
   "source": [
    "#Challenge 1\n",
    "\n",
    "def simpleDecisions():\n",
    "    '''Takes a number and outputs a decision'''\n",
    "        \n",
    "    number = float(input(\"Enter a number: \"))\n",
    "\n",
    "    # Classify the number\n",
    "    if number > 0:\n",
    "        print(\"Positive\")\n",
    "    elif number < 0:\n",
    "        print(\"Negative\")\n",
    "    else:\n",
    "        print(\"Zero\")\n",
    "simpleDecisions()"
   ]
  },
  {
   "cell_type": "code",
   "execution_count": null,
   "id": "a1678da5",
   "metadata": {},
   "outputs": [],
   "source": [
    "def guessNumber():\n",
    "    '''Randomly chooses a number between 1 and 10'''\n",
    "    import random\n",
    "    secret_number = random.randint(1, 10)\n",
    "    while True:\n",
    "        guess = int(input(\"Enter your guess: \"))\n",
    "        \n",
    "        if guess < 1 or guess > 10: \n",
    "            print(\"Please enter a number between 1 and 10.\")\n",
    "        elif guess < secret_number:\n",
    "            print(\"Too low. Try again.\")\n",
    "        elif guess > secret_number:\n",
    "            print(\"Too high. Try again.\")\n",
    "        else:\n",
    "            print(\"Congratulations! You guessed it!\")\n",
    "          break \n",
    "guessNumber()"
   ]
  },
  {
   "cell_type": "code",
   "execution_count": null,
   "id": "a7a1df8b",
   "metadata": {},
   "outputs": [],
   "source": [
    "#Challenge 3\n",
    "def tablesGenerator():\n",
    "    togenerate = int(input('Enter a number whose table togenerate: '))\n",
    "    for i in range(12):\n",
    "        print(f'{i+1} x {togenerate} = {(i+1)*togenerate}')\n",
    "tablesGenerator()"
   ]
  },
  {
   "cell_type": "code",
   "execution_count": 7,
   "id": "f9f32e75",
   "metadata": {},
   "outputs": [
    {
     "name": "stdout",
     "output_type": "stream",
     "text": [
      "8\n",
      "7\n",
      "6\n",
      "5\n",
      "4\n",
      "3\n",
      "2\n",
      "1\n",
      "0\n"
     ]
    }
   ],
   "source": [
    "def countDownTimer():\n",
    "    '''Simulates a count down timer'''\n",
    "    from time import sleep\n",
    "    counter = int(input('Enter a starting number: '))\n",
    "    while counter >= 0:\n",
    "        print(counter)\n",
    "        sleep(1)\n",
    "        counter -=1\n",
    "countDownTimer()"
   ]
  },
  {
   "cell_type": "code",
   "execution_count": null,
   "id": "2678e101",
   "metadata": {},
   "outputs": [],
   "source": [
    "def fizzBuzzLoop():\n",
    "    '''Fizz Buzz Loop'''\n",
    "    for number in range(1, 51):\n",
    "        if number % 3 == 0 and number % 5 == 0:\n",
    "            print(\"FizzBuzz\")\n",
    "        elif number % 3 == 0:\n",
    "            print(\"Fizz\")\n",
    "        elif number % 5 == 0:\n",
    "            print(\"Buzz\")\n",
    "        else:\n",
    "            print(number)\n",
    "\n",
    "fizzBuzzLoop()\n",
    "\n"
   ]
  },
  {
   "cell_type": "code",
   "execution_count": null,
   "id": "7f909992",
   "metadata": {},
   "outputs": [],
   "source": [
    "def isPrimeNumber():\n",
    "    '''determines if the enterered number is prime'''\n",
    "    number = int(input(\"Enter a number: \"))\n",
    "\n",
    "    # A prime numbers are greater than 1\n",
    "    if number > 1:\n",
    "        # Check if any number from 2 to number-1 divides evenly\n",
    "        for i in range(2, number):\n",
    "            if number % i == 0:\n",
    "                print(\"Not a prime number\")\n",
    "                break\n",
    "        else:\n",
    "            # If no number divides evenly, it's prime\n",
    "            print(\"Prime number\")\n",
    "    else:\n",
    "        print(\"Not a prime number\")"
   ]
  }
 ],
 "metadata": {
  "kernelspec": {
   "display_name": "Python 3 (ipykernel)",
   "language": "python",
   "name": "python3"
  },
  "language_info": {
   "codemirror_mode": {
    "name": "ipython",
    "version": 3
   },
   "file_extension": ".py",
   "mimetype": "text/x-python",
   "name": "python",
   "nbconvert_exporter": "python",
   "pygments_lexer": "ipython3",
   "version": "3.12.1"
  }
 },
 "nbformat": 4,
 "nbformat_minor": 5
}
