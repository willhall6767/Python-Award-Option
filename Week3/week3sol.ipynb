{
 "cells": [
  {
   "cell_type": "code",
   "execution_count": 7,
   "id": "952bb672",
   "metadata": {},
   "outputs": [],
   "source": [
    "import random\n",
    "def addEm(x,y):\n",
    "    '''adds two values returns a sum'''\n",
    "    return x+y\n",
    "def timesEm(x,y):\n",
    "    '''Multiplies two values'''\n",
    "    return x*y\n",
    "def divEm(x,y):\n",
    "    '''returns the quotient'''\n",
    "    return x/y\n",
    "\n",
    "#num1 = int(input('Num1:'))\n",
    "#num1 = int(input('Num2:'))\n",
    "for i in range(5):\n",
    "    op = random.choice([\"+\",\"*\", \"/\"])\n",
    "    num1 =random.randint(1,13)\n",
    "    num2 =random.randint(1,13)\n",
    "    user_answer = int(input(f'{num1} {op} {num2} = '))\n",
    "    if  (op ==\"+\") and (user_answer ==addEm(num1,num2)):\n",
    "        print('Correct!')\n",
    "    \n"
   ]
  },
  {
   "cell_type": "code",
   "execution_count": null,
   "id": "19cfac98",
   "metadata": {},
   "outputs": [
    {
     "name": "stdout",
     "output_type": "stream",
     "text": [
      "8 | 24\n"
     ]
    }
   ],
   "source": [
    "print(f'{addEm(3,5)} | {timesEm(4,6)}')\n",
    "\n"
   ]
  }
 ],
 "metadata": {
  "kernelspec": {
   "display_name": "Python 3 (ipykernel)",
   "language": "python",
   "name": "python3"
  },
  "language_info": {
   "codemirror_mode": {
    "name": "ipython",
    "version": 3
   },
   "file_extension": ".py",
   "mimetype": "text/x-python",
   "name": "python",
   "nbconvert_exporter": "python",
   "pygments_lexer": "ipython3",
   "version": "3.12.1"
  }
 },
 "nbformat": 4,
 "nbformat_minor": 5
}
