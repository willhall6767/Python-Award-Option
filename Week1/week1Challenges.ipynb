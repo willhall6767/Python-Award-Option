{
 "cells": [
  {
   "cell_type": "markdown",
   "id": "a489935f",
   "metadata": {},
   "source": [
    "# My first Python Notbook\n",
    "### Week 1 programming Challenges"
   ]
  },
  {
   "cell_type": "code",
   "execution_count": 1,
   "id": "073f5dbd",
   "metadata": {},
   "outputs": [],
   "source": [
    "def greet(user):\n",
    "    '''Greets the named user'''\n",
    "    print(f'Hello {user} nice to meet you.')\n",
    "\n"
   ]
  },
  {
   "cell_type": "code",
   "execution_count": null,
   "id": "72bc0528",
   "metadata": {},
   "outputs": [],
   "source": [
    "greet(\"Amelia\")"
   ]
  },
  {
   "cell_type": "code",
   "execution_count": null,
   "id": "dc6a6f52",
   "metadata": {},
   "outputs": [
    {
     "name": "stdout",
     "output_type": "stream",
     "text": [
      "56.0 C is 132.8 F\n"
     ]
    }
   ],
   "source": [
    "def FTempConverter():\n",
    "    '''Tem converter'''\n",
    "    temp = float(input(\" Enter Celcius temp: \"))\n",
    "    f = (temp*9)/5+32\n",
    "    print(f\"{temp} C is {f} F\")\n",
    "FTempConverter()"
   ]
  },
  {
   "cell_type": "code",
   "execution_count": null,
   "id": "b71d0e49",
   "metadata": {},
   "outputs": [],
   "source": []
  }
 ],
 "metadata": {
  "kernelspec": {
   "display_name": "Python 3 (ipykernel)",
   "language": "python",
   "name": "python3"
  }
 },
 "nbformat": 4,
 "nbformat_minor": 5
}
