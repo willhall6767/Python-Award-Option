{
 "cells": [
  {
   "cell_type": "markdown",
   "id": "f2a3e861",
   "metadata": {},
   "source": [
    "# My first Python Notebook\n",
    "## Week 1 programming challenges"
   ]
  },
  {
   "cell_type": "code",
   "execution_count": 2,
   "id": "52bc4122",
   "metadata": {},
   "outputs": [],
   "source": [
    "def greet(user):\n",
    "    '''Greets the named user'''\n",
    "    print(f'Hello {user} nice to meet you')\n",
    "    \n"
   ]
  },
  {
   "cell_type": "code",
   "execution_count": 3,
   "id": "772d22a3",
   "metadata": {},
   "outputs": [
    {
     "name": "stdout",
     "output_type": "stream",
     "text": [
      "Hello Dudeman nice to meet you\n"
     ]
    }
   ],
   "source": [
    "    greet(\"Dudeman\")\n"
   ]
  }
 ],
 "metadata": {
  "kernelspec": {
   "display_name": "Python 3 (ipykernel)",
   "language": "python",
   "name": "python3"
  },
  "language_info": {
   "codemirror_mode": {
    "name": "ipython",
    "version": 3
   },
   "file_extension": ".py",
   "mimetype": "text/x-python",
   "name": "python",
   "nbconvert_exporter": "python",
   "pygments_lexer": "ipython3",
   "version": "3.12.1"
  }
 },
 "nbformat": 4,
 "nbformat_minor": 5
}
