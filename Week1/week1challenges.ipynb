{
 "cells": [
  {
   "cell_type": "markdown",
   "id": "f2a3e861",
   "metadata": {},
   "source": [
    "# My first Python Notebook\n",
    "## Week 1 programming challenges"
   ]
  },
  {
   "cell_type": "code",
   "execution_count": null,
   "id": "52bc4122",
   "metadata": {},
   "outputs": [],
   "source": [
    "def greet(user):\n",
    "    '''Greets the named user'''\n",
    "    print(f'Hello {user} nice to meet you')\n",
    "    \n"
   ]
  },
  {
   "cell_type": "code",
   "execution_count": null,
   "id": "772d22a3",
   "metadata": {},
   "outputs": [
    {
     "name": "stdout",
     "output_type": "stream",
     "text": [
      "Hello Dudeman nice to meet you\n"
     ]
    }
   ],
   "source": [
    "    greet(\"Dudeman\")\n"
   ]
  },
  {
   "cell_type": "code",
   "execution_count": null,
   "id": "4d83dc05",
   "metadata": {},
   "outputs": [
    {
     "ename": "KeyboardInterrupt",
     "evalue": "Interrupted by user",
     "output_type": "error",
     "traceback": [
      "\u001b[31m---------------------------------------------------------------------------\u001b[39m",
      "\u001b[31mKeyboardInterrupt\u001b[39m                         Traceback (most recent call last)",
      "\u001b[36mCell\u001b[39m\u001b[36m \u001b[39m\u001b[32mIn[4]\u001b[39m\u001b[32m, line 6\u001b[39m\n\u001b[32m      4\u001b[39m     f = (temp*\u001b[32m9\u001b[39m)/\u001b[32m5\u001b[39m+\u001b[32m32\u001b[39m\n\u001b[32m      5\u001b[39m     \u001b[38;5;28mprint\u001b[39m(\u001b[33mf\u001b[39m\u001b[33m\"\u001b[39m\u001b[38;5;132;01m{\u001b[39;00mtemp\u001b[38;5;132;01m}\u001b[39;00m\u001b[33m C is \u001b[39m\u001b[38;5;132;01m{\u001b[39;00mf\u001b[38;5;132;01m}\u001b[39;00m\u001b[33m F\u001b[39m\u001b[33m\"\u001b[39m)\n\u001b[32m----> \u001b[39m\u001b[32m6\u001b[39m \u001b[43mFTempConverter\u001b[49m\u001b[43m(\u001b[49m\u001b[43m)\u001b[49m\n",
      "\u001b[36mCell\u001b[39m\u001b[36m \u001b[39m\u001b[32mIn[4]\u001b[39m\u001b[32m, line 3\u001b[39m, in \u001b[36mFTempConverter\u001b[39m\u001b[34m()\u001b[39m\n\u001b[32m      1\u001b[39m \u001b[38;5;28;01mdef\u001b[39;00m\u001b[38;5;250m \u001b[39m\u001b[34mFTempConverter\u001b[39m():\n\u001b[32m      2\u001b[39m \u001b[38;5;250m    \u001b[39m\u001b[33;03m'''tempConverter'''\u001b[39;00m\n\u001b[32m----> \u001b[39m\u001b[32m3\u001b[39m     temp = \u001b[38;5;28mfloat\u001b[39m(\u001b[38;5;28;43minput\u001b[39;49m\u001b[43m(\u001b[49m\u001b[33;43m\"\u001b[39;49m\u001b[33;43m Enter Celcius temp: \u001b[39;49m\u001b[33;43m\"\u001b[39;49m\u001b[43m)\u001b[49m)\n\u001b[32m      4\u001b[39m     f = (temp*\u001b[32m9\u001b[39m)/\u001b[32m5\u001b[39m+\u001b[32m32\u001b[39m\n\u001b[32m      5\u001b[39m     \u001b[38;5;28mprint\u001b[39m(\u001b[33mf\u001b[39m\u001b[33m\"\u001b[39m\u001b[38;5;132;01m{\u001b[39;00mtemp\u001b[38;5;132;01m}\u001b[39;00m\u001b[33m C is \u001b[39m\u001b[38;5;132;01m{\u001b[39;00mf\u001b[38;5;132;01m}\u001b[39;00m\u001b[33m F\u001b[39m\u001b[33m\"\u001b[39m)\n",
      "\u001b[36mFile \u001b[39m\u001b[32m~/.local/lib/python3.12/site-packages/ipykernel/kernelbase.py:1282\u001b[39m, in \u001b[36mKernel.raw_input\u001b[39m\u001b[34m(self, prompt)\u001b[39m\n\u001b[32m   1280\u001b[39m     msg = \u001b[33m\"\u001b[39m\u001b[33mraw_input was called, but this frontend does not support input requests.\u001b[39m\u001b[33m\"\u001b[39m\n\u001b[32m   1281\u001b[39m     \u001b[38;5;28;01mraise\u001b[39;00m StdinNotImplementedError(msg)\n\u001b[32m-> \u001b[39m\u001b[32m1282\u001b[39m \u001b[38;5;28;01mreturn\u001b[39;00m \u001b[38;5;28;43mself\u001b[39;49m\u001b[43m.\u001b[49m\u001b[43m_input_request\u001b[49m\u001b[43m(\u001b[49m\n\u001b[32m   1283\u001b[39m \u001b[43m    \u001b[49m\u001b[38;5;28;43mstr\u001b[39;49m\u001b[43m(\u001b[49m\u001b[43mprompt\u001b[49m\u001b[43m)\u001b[49m\u001b[43m,\u001b[49m\n\u001b[32m   1284\u001b[39m \u001b[43m    \u001b[49m\u001b[38;5;28;43mself\u001b[39;49m\u001b[43m.\u001b[49m\u001b[43m_parent_ident\u001b[49m\u001b[43m[\u001b[49m\u001b[33;43m\"\u001b[39;49m\u001b[33;43mshell\u001b[39;49m\u001b[33;43m\"\u001b[39;49m\u001b[43m]\u001b[49m\u001b[43m,\u001b[49m\n\u001b[32m   1285\u001b[39m \u001b[43m    \u001b[49m\u001b[38;5;28;43mself\u001b[39;49m\u001b[43m.\u001b[49m\u001b[43mget_parent\u001b[49m\u001b[43m(\u001b[49m\u001b[33;43m\"\u001b[39;49m\u001b[33;43mshell\u001b[39;49m\u001b[33;43m\"\u001b[39;49m\u001b[43m)\u001b[49m\u001b[43m,\u001b[49m\n\u001b[32m   1286\u001b[39m \u001b[43m    \u001b[49m\u001b[43mpassword\u001b[49m\u001b[43m=\u001b[49m\u001b[38;5;28;43;01mFalse\u001b[39;49;00m\u001b[43m,\u001b[49m\n\u001b[32m   1287\u001b[39m \u001b[43m\u001b[49m\u001b[43m)\u001b[49m\n",
      "\u001b[36mFile \u001b[39m\u001b[32m~/.local/lib/python3.12/site-packages/ipykernel/kernelbase.py:1325\u001b[39m, in \u001b[36mKernel._input_request\u001b[39m\u001b[34m(self, prompt, ident, parent, password)\u001b[39m\n\u001b[32m   1322\u001b[39m \u001b[38;5;28;01mexcept\u001b[39;00m \u001b[38;5;167;01mKeyboardInterrupt\u001b[39;00m:\n\u001b[32m   1323\u001b[39m     \u001b[38;5;66;03m# re-raise KeyboardInterrupt, to truncate traceback\u001b[39;00m\n\u001b[32m   1324\u001b[39m     msg = \u001b[33m\"\u001b[39m\u001b[33mInterrupted by user\u001b[39m\u001b[33m\"\u001b[39m\n\u001b[32m-> \u001b[39m\u001b[32m1325\u001b[39m     \u001b[38;5;28;01mraise\u001b[39;00m \u001b[38;5;167;01mKeyboardInterrupt\u001b[39;00m(msg) \u001b[38;5;28;01mfrom\u001b[39;00m\u001b[38;5;250m \u001b[39m\u001b[38;5;28;01mNone\u001b[39;00m\n\u001b[32m   1326\u001b[39m \u001b[38;5;28;01mexcept\u001b[39;00m \u001b[38;5;167;01mException\u001b[39;00m:\n\u001b[32m   1327\u001b[39m     \u001b[38;5;28mself\u001b[39m.log.warning(\u001b[33m\"\u001b[39m\u001b[33mInvalid Message:\u001b[39m\u001b[33m\"\u001b[39m, exc_info=\u001b[38;5;28;01mTrue\u001b[39;00m)\n",
      "\u001b[31mKeyboardInterrupt\u001b[39m: Interrupted by user"
     ]
    }
   ],
   "source": [
    "def FTempConverter():\n",
    "    '''tempConverter'''\n",
    "    temp = float(input(\" Enter Celcius temp: \"))\n",
    "    f = (temp*9)/5+32\n",
    "    print(f\"{temp} C is {f} F\")\n",
    "FTempConverter()"
   ]
  },
  {
   "cell_type": "code",
   "execution_count": null,
   "id": "736fdcf8",
   "metadata": {},
   "outputs": [],
   "source": [
    "def greet(user):\n",
    "    '''Greets the names uder'''\n",
    "    print(f'Hello {user} nice to meet you')\n"
   ]
  },
  {
   "cell_type": "markdown",
   "id": "09903ce4",
   "metadata": {},
   "source": [
    "greet (Dudeman)"
   ]
  },
  {
   "cell_type": "code",
   "execution_count": null,
   "id": "a4837f49",
   "metadata": {},
   "outputs": [
    {
     "name": "stdout",
     "output_type": "stream",
     "text": [
      "Hello Dudeman nice to meet you\n"
     ]
    }
   ],
   "source": [
    "    greet (\"Dudeman\")\n"
   ]
  },
  {
   "cell_type": "code",
   "execution_count": null,
   "id": "cc94086b",
   "metadata": {},
   "outputs": [
    {
     "ename": "SyntaxError",
     "evalue": "invalid syntax (1885169875.py, line 1)",
     "output_type": "error",
     "traceback": [
      "  \u001b[36mCell\u001b[39m\u001b[36m \u001b[39m\u001b[32mIn[6]\u001b[39m\u001b[32m, line 1\u001b[39m\n\u001b[31m    \u001b[39m\u001b[31mdef\u001b[39m\n        ^\n\u001b[31mSyntaxError\u001b[39m\u001b[31m:\u001b[39m invalid syntax\n"
     ]
    }
   ],
   "source": [
    "def "
   ]
  },
  {
   "cell_type": "code",
   "execution_count": null,
   "id": "35f87453",
   "metadata": {},
   "outputs": [
    {
     "name": "stdout",
     "output_type": "stream",
     "text": [
      "....Computer is making its choice....\n",
      "....Computer has amde their choice....\n",
      ".....determining winner.....\n",
      "You lose beause paper beats rock\n"
     ]
    }
   ],
   "source": [
    "def rockPaperScissors():\n",
    "    '''simulate rock paper scissors game'''\n",
    "    from random import randint, choice\n",
    "    from time import sleep\n",
    "    choices = ['r','p','s']\n",
    "    \n",
    "    print('....Computer is making its choice....')\n",
    "    getCompChoice = choice(choices)\n",
    "    sleep(2)\n",
    "    print('....Computer has amde their choice....')\n",
    "    #print(getChoice)\n",
    "    userChoice = input('Enter your choice [\"r\", \"p\", \"s\"]: ')\n",
    "\n",
    "    if getCompChoice ==\"r\" and userChoice ==\"p\":\n",
    "            print('.....determining winner.....')\n",
    "            sleep(2)\n",
    "            print('You win because paper beat rock')\n",
    "    elif getCompChoice ==\"r\" and userChoice ==\"s\":\n",
    "            print('....determining winner....')\n",
    "            sleep(2)\n",
    "            print('You lose because rock beats scissors')\n",
    "    elif getCompChoice ==\"s\" and userChoice ==\"p\":\n",
    "            print('.....determining winner.....')\n",
    "            sleep(2)\n",
    "            print('You lose because scissors beat paper')\n",
    "    elif getCompChoice ==\"p\" and userChoice ==\"r\":\n",
    "            print('.....determining winner.....')\n",
    "            sleep(2)\n",
    "            print('You lose beause paper beats rock')\n",
    "    elif getCompChoice ==\"s\" and userChoice ==\"r\":\n",
    "            print('.....determining winner.....')\n",
    "            sleep(2)\n",
    "            print('You win because rock beats scissors')\n",
    "    elif getCompChoice ==\"s\" and userChoice ==\"p\":\n",
    "            print('.....determining winner.....')\n",
    "            sleep(2)\n",
    "            print('You lose because scissors beats paper')\n",
    "    else: \n",
    "        print('I do not know who wins')\n",
    "\n",
    "rockPaperScissors()"
   ]
  }
 ],
 "metadata": {
  "kernelspec": {
   "display_name": "Python 3 (ipykernel)",
   "language": "python",
   "name": "python3"
  }
 },
 "nbformat": 4,
 "nbformat_minor": 5
}
